{
 "cells": [
  {
   "cell_type": "code",
   "execution_count": 9,
   "id": "beb12751",
   "metadata": {},
   "outputs": [],
   "source": [
    "import numpy as np"
   ]
  },
  {
   "cell_type": "code",
   "execution_count": 14,
   "id": "50395231",
   "metadata": {},
   "outputs": [],
   "source": [
    "import mysql.connector\n",
    "\n",
    "mydb = mysql.connector.connect(\n",
    "    host=\"localhost\",\n",
    "    user=\"root\",\n",
    "    password=\"djsalvi1424@0310\",\n",
    "    auth_plugin='mysql_native_password'  # Specify the authentication plugin here\n",
    ")\n",
    "\n",
    "mycursor = mydb.cursor()\n",
    "\n",
    "mycursor.execute(\"create database dairy\")"
   ]
  },
  {
   "cell_type": "code",
   "execution_count": 15,
   "id": "eef013ed",
   "metadata": {},
   "outputs": [
    {
     "name": "stdout",
     "output_type": "stream",
     "text": [
      "('dairy',)\n",
      "('exem',)\n",
      "('information_schema',)\n",
      "('mydatabase',)\n",
      "('mysql',)\n",
      "('performance_schema',)\n",
      "('person',)\n",
      "('sys',)\n"
     ]
    }
   ],
   "source": [
    "mycursor.execute(\"SHOW DATABASES\")\n",
    "\n",
    "for i in mycursor:\n",
    "    print(i)"
   ]
  },
  {
   "cell_type": "code",
   "execution_count": 17,
   "id": "bd26519c",
   "metadata": {},
   "outputs": [],
   "source": [
    "import mysql.connector\n",
    "\n",
    "mydb = mysql.connector.connect(\n",
    "    host=\"localhost\",\n",
    "    user=\"root\",\n",
    "    password=\"djsalvi1424@0310\",\n",
    "    auth_plugin='mysql_native_password',  # Specify the authentication plugin here\n",
    "    database = \"dairy\"\n",
    ")\n",
    "\n",
    "mycursor = mydb.cursor()\n",
    "\n",
    "mycursor.execute(\"create table product (ID INT AUTO_INCREMENT PRIMARY KEY, name varchar(255), quality INT, price INT)\")"
   ]
  },
  {
   "cell_type": "code",
   "execution_count": 1,
   "id": "14ff12c2",
   "metadata": {},
   "outputs": [
    {
     "name": "stdout",
     "output_type": "stream",
     "text": [
      "---------------------------------------------\n",
      "Dairy product\n",
      "---------------------------------------------\n",
      "product name with price per KG/liter\n",
      "_____________________________________________\n",
      "Banana  -  50 rupess\n",
      "Apple  -  80 rupess\n",
      "Coconat  -  60 rupess\n",
      "Milk  -  64 rupess\n",
      "Bread  -  30 rupess\n"
     ]
    }
   ],
   "source": [
    "print(\"---------------------------------------------\")\n",
    "print(\"Dairy product\")\n",
    "print(\"---------------------------------------------\")\n",
    "print(\"product name with price per KG/liter\") \n",
    "print(\"_____________________________________________\")\n",
    "print(\"Banana  -  50 rupess\")\n",
    "print(\"Apple  -  80 rupess\")\n",
    "print(\"Coconat  -  60 rupess\")\n",
    "print(\"Milk  -  64 rupess\")\n",
    "print(\"Bread  -  30 rupess\")"
   ]
  },
  {
   "cell_type": "code",
   "execution_count": 2,
   "id": "5b605737",
   "metadata": {},
   "outputs": [
    {
     "name": "stdout",
     "output_type": "stream",
     "text": [
      "press 1: Add product\n",
      "press 2: Edit product\n",
      "press 3: Delete product\n",
      "Press any above number:1\n"
     ]
    }
   ],
   "source": [
    "print(\"press 1: Add product\")\n",
    "print(\"press 2: Edit product\")\n",
    "print(\"press 3: Delete product\")\n",
    "\n",
    "user_input = int(input(\"Press any above number:\"))"
   ]
  },
  {
   "cell_type": "code",
   "execution_count": 6,
   "id": "8da06ce2",
   "metadata": {},
   "outputs": [
    {
     "name": "stdout",
     "output_type": "stream",
     "text": [
      "Enter the name of product: apple\n",
      "Enter the quantity of product: 1\n",
      "Enter the price of product: 12\n",
      "1 is inserted.\n"
     ]
    }
   ],
   "source": [
    "import mysql.connector\n",
    "\n",
    "if user_input == 1:\n",
    "    \n",
    "    p_nm = input(\"Enter the name of product: \")\n",
    "    p_qun = input(\"Enter the quantity of product: \")\n",
    "    p_price = input(\"Enter the price of product: \")\n",
    "    \n",
    "    mydb = mysql.connector.connect(\n",
    "    host=\"localhost\",\n",
    "    user=\"root\",\n",
    "    password=\"djsalvi1424@0310\",\n",
    "    auth_plugin='mysql_native_password',  # Specify the authentication plugin here\n",
    "    database = \"dairy\"\n",
    "    )\n",
    "\n",
    "    mycursor = mydb.cursor()\n",
    "    \n",
    "    sql = \"insert into product (name, quality, price) values (%s, %s, %s)\"\n",
    "    val = (p_nm, p_qun, p_price)\n",
    "    \n",
    "    mycursor.execute(sql, val)\n",
    "    \n",
    "    mydb.commit()\n",
    "    \n",
    "    print(mycursor.rowcount, \"is inserted.\")"
   ]
  },
  {
   "cell_type": "code",
   "execution_count": null,
   "id": "be53cab4",
   "metadata": {},
   "outputs": [],
   "source": []
  },
  {
   "cell_type": "code",
   "execution_count": null,
   "id": "1ba11512",
   "metadata": {},
   "outputs": [],
   "source": []
  }
 ],
 "metadata": {
  "kernelspec": {
   "display_name": "Python 3 (ipykernel)",
   "language": "python",
   "name": "python3"
  },
  "language_info": {
   "codemirror_mode": {
    "name": "ipython",
    "version": 3
   },
   "file_extension": ".py",
   "mimetype": "text/x-python",
   "name": "python",
   "nbconvert_exporter": "python",
   "pygments_lexer": "ipython3",
   "version": "3.11.5"
  }
 },
 "nbformat": 4,
 "nbformat_minor": 5
}
